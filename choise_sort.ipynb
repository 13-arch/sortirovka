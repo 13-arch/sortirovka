{
 "cells": [
  {
   "cell_type": "code",
   "execution_count": 2,
   "metadata": {},
   "outputs": [
    {
     "data": {
      "text/plain": [
       "[10, 18, 23, 42, 66]"
      ]
     },
     "execution_count": 2,
     "metadata": {},
     "output_type": "execute_result"
    }
   ],
   "source": [
    "list_1=[18,42,23,10,66]\n",
    "sorted_list=[]\n",
    "while len(list_1)>0:\n",
    "    min=list_1[0]\n",
    "    for i in range(0,len(list_1)):\n",
    "        if list_1[i]<min:\n",
    "            min=list_1[i]\n",
    "    sorted_list.append(min)\n",
    "    list_1.remove(min)\n",
    "sorted_list            "
   ]
  }
 ],
 "metadata": {
  "kernelspec": {
   "display_name": "Python 3",
   "language": "python",
   "name": "python3"
  },
  "language_info": {
   "codemirror_mode": {
    "name": "ipython",
    "version": 3
   },
   "file_extension": ".py",
   "mimetype": "text/x-python",
   "name": "python",
   "nbconvert_exporter": "python",
   "pygments_lexer": "ipython3",
   "version": "3.12.3"
  }
 },
 "nbformat": 4,
 "nbformat_minor": 2
}
