{
 "cells": [
  {
   "cell_type": "code",
   "execution_count": null,
   "metadata": {},
   "outputs": [
    {
     "data": {
      "text/plain": [
       "2"
      ]
     },
     "execution_count": 7,
     "metadata": {},
     "output_type": "execute_result"
    }
   ],
   "source": [
    "list_1=[18,42,23,10,66]\n",
    "O=len(list_1)/2#получаю индекс опорного элемента\n",
    "for i in range(0,O):\n",
    "    if list_1[i]>list_1[O]:\n",
    "        list_1.append(list(i))\n",
    "        list_1.remove(list[i])\n",
    "for i in range (O+1,len(list_1[O])):\n",
    "    pass\n",
    "#команда insert()позволяет позволяет добавить элемент на определенную позицию        "
   ]
  }
 ],
 "metadata": {
  "kernelspec": {
   "display_name": "Python 3",
   "language": "python",
   "name": "python3"
  },
  "language_info": {
   "codemirror_mode": {
    "name": "ipython",
    "version": 3
   },
   "file_extension": ".py",
   "mimetype": "text/x-python",
   "name": "python",
   "nbconvert_exporter": "python",
   "pygments_lexer": "ipython3",
   "version": "3.12.3"
  }
 },
 "nbformat": 4,
 "nbformat_minor": 2
}
